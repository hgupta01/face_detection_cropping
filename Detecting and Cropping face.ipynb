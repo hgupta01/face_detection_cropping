{
 "cells": [
  {
   "cell_type": "code",
   "execution_count": 2,
   "metadata": {},
   "outputs": [],
   "source": [
    "import numpy as np\n",
    "import cv2\n",
    "import subprocess as sp"
   ]
  },
  {
   "cell_type": "code",
   "execution_count": 3,
   "metadata": {},
   "outputs": [],
   "source": [
    "face_cascade = cv2.CascadeClassifier(\"../haar-cascade-files/haarcascade_frontalface_default.xml\")"
   ]
  },
  {
   "cell_type": "code",
   "execution_count": null,
   "metadata": {},
   "outputs": [],
   "source": [
    "#org_vid = cv2.VideoCapture(\"an1.avi\")\n",
    "#vid_width = int(org_vid.get(3))\n",
    "#vid_height = int(org_vid.get(4))\n",
    "#vid_fps = org_vid.get(5)\n"
   ]
  },
  {
   "cell_type": "code",
   "execution_count": 4,
   "metadata": {},
   "outputs": [],
   "source": [
    "cap = cv2.VideoCapture(\"01-01-08-02-02-02-17.mp4\")\n",
    "frameCount = int(cap.get(cv2.CAP_PROP_FRAME_COUNT))\n",
    "frameWidth = int(cap.get(cv2.CAP_PROP_FRAME_WIDTH))\n",
    "frameHeight = int(cap.get(cv2.CAP_PROP_FRAME_HEIGHT))\n",
    "    \n",
    "path_harr_cascade = \"/home/himanshu/ffmpeg_tut/haar-cascade-files/haarcascade_frontalface_default.xml\"\n",
    "face_cascade = cv2.CascadeClassifier(path_harr_cascade)\n",
    "    \n",
    "rsz_h_w = 200\n",
    "    \n",
    "buf = np.empty((frameCount, rsz_h_w, rsz_h_w, 3), np.dtype('uint8'))\n",
    "    \n",
    "ret,frame = cap.read()\n",
    "if ret==True:\n",
    "    gray_frame = cv2.cvtColor(frame,cv2.COLOR_BGR2GRAY)\n",
    "    face_det = face_cascade.detectMultiScale(gray_frame,1.3,5)\n",
    "else:\n",
    "    print(\"Video not captured\")\n",
    "        \n",
    "for (x,y,w,h) in face_det:\n",
    "    cord_x = x\n",
    "    cord_y = y"
   ]
  },
  {
   "cell_type": "code",
   "execution_count": 7,
   "metadata": {},
   "outputs": [
    {
     "data": {
      "text/plain": [
       "0"
      ]
     },
     "execution_count": 7,
     "metadata": {},
     "output_type": "execute_result"
    }
   ],
   "source": [
    "len(face_det)"
   ]
  },
  {
   "cell_type": "code",
   "execution_count": null,
   "metadata": {},
   "outputs": [],
   "source": [
    "def minmax(newval, minval, maxval):\n",
    "    \n",
    "    if newval > maxval:\n",
    "        return minval, newval\n",
    "    elif newval < minval:\n",
    "        return newval, maxval\n",
    "    else:\n",
    "        return minval, maxval"
   ]
  },
  {
   "cell_type": "code",
   "execution_count": null,
   "metadata": {},
   "outputs": [],
   "source": [
    "# Cropping and displayig the faces and finding the max and min \n",
    "# height of the cropped image\n",
    "\n",
    "org_vid = cv2.VideoCapture(\"an1.avi\")\n",
    "itr = 0\n",
    "while (True):\n",
    "    rec, frame = org_vid.read()\n",
    "    itr = itr+1\n",
    "    if rec==True:\n",
    "        gray_frame = cv2.cvtColor(frame,cv2.COLOR_BGR2GRAY)\n",
    "        face_det = face_cascade.detectMultiScale(gray_frame,1.3,5)\n",
    "        \n",
    "        for (x,y,w,h) in face_det:\n",
    "            if itr == 1:\n",
    "                h_minval = h\n",
    "                h_maxval = h\n",
    "                w_minval = w\n",
    "                w_maxval = w\n",
    "            else:\n",
    "                h_minval,h_maxval = minmax(h,h_minval,h_maxval)\n",
    "                w_minval,w_maxval = minmax(w,w_minval,w_maxval)\n",
    "            \n",
    "            face_crop = frame[y:y+h, x:x+w]\n",
    "            cv2.imshow('crop',face_crop)\n",
    "        if cv2.waitKey(1) & 0xFF == ord('q'):\n",
    "            break\n",
    "    \n",
    "    else:\n",
    "        print(\"Frame capture failed, exiting the loop\")\n",
    "        break\n",
    "org_vid.release()\n",
    "cv2.destroyAllWindows()\n",
    "print (h_minval, h_maxval, w_minval, w_maxval)     "
   ]
  },
  {
   "cell_type": "code",
   "execution_count": null,
   "metadata": {},
   "outputs": [],
   "source": [
    "# Cropped and resized face image from the video\n",
    "org_vid = cv2.VideoCapture(\"an1.avi\")\n",
    "rsz_w = 120\n",
    "rsz_h = 120\n",
    "while (True):\n",
    "    rec, frame = org_vid.read()\n",
    "    if rec==True:\n",
    "        gray_frame = cv2.cvtColor(frame,cv2.COLOR_BGR2GRAY)\n",
    "        \n",
    "        face_det = face_cascade.detectMultiScale(gray_frame,1.03,3)\n",
    "        \n",
    "        for (x,y,w,h) in face_det:\n",
    "            face_crop = frame[y:y+h, x:x+w]\n",
    "            face_rsz = cv2.resize(face_crop, (rsz_w,rsz_h),interpolation =cv2.INTER_LANCZOS4)\n",
    "        \n",
    "        cv2.imshow('resize', face_rsz)\n",
    "        if cv2.waitKey(1) & 0xFF == ord('q'):\n",
    "            break\n",
    "    \n",
    "    else:\n",
    "        print(\"Frame capture failed, exiting the loop\")\n",
    "        break\n",
    "org_vid.release()\n",
    "cv2.destroyAllWindows()"
   ]
  },
  {
   "cell_type": "code",
   "execution_count": null,
   "metadata": {},
   "outputs": [],
   "source": [
    "# Generatig video from cropped and resized faces\n",
    "rsz_w = 150\n",
    "rsz_h = 150\n",
    "org_vid = cv2.VideoCapture(\"rvds.mp4\")\n",
    "fps_org_vid = org_vid.get(5)\n",
    "crop_vid = cv2.VideoWriter('face_crop.avi',cv2.VideoWriter_fourcc('F','L','V','1'),fps_org_vid,(rsz_w,rsz_h))\n",
    "\n",
    "while (True):\n",
    "    rec, frame = org_vid.read()\n",
    "    if rec==True:\n",
    "        gray_frame = cv2.cvtColor(frame,cv2.COLOR_BGR2GRAY)\n",
    "        \n",
    "        face_det = face_cascade.detectMultiScale(gray_frame,1.3,3)\n",
    "        \n",
    "        for (x,y,w,h) in face_det:\n",
    "            face_crop = frame[y:y+h, x:x+w]\n",
    "            face_rsz = cv2.resize(face_crop, (rsz_w,rsz_h),interpolation =cv2.INTER_CUBIC)\n",
    "            \n",
    "        crop_vid.write(face_rsz)\n",
    "        cv2.imshow('resize', face_rsz)\n",
    "        if cv2.waitKey(1) & 0xFF == ord('q'):\n",
    "            break\n",
    "    \n",
    "    else:\n",
    "        #print(\"Frame capture failed, exiting the loop\")\n",
    "        break\n",
    "org_vid.release()\n",
    "crop_vid.release()\n",
    "cv2.destroyAllWindows()\n",
    "\n"
   ]
  },
  {
   "cell_type": "code",
   "execution_count": null,
   "metadata": {},
   "outputs": [],
   "source": [
    "print(face_det)"
   ]
  },
  {
   "cell_type": "code",
   "execution_count": null,
   "metadata": {},
   "outputs": [],
   "source": [
    "x = 425\n",
    "y = 150\n",
    "w = 400\n",
    "h = 400\n",
    "\n",
    "org_vid = cv2.VideoCapture(\"rvds.mp4\")\n",
    "crop_vid = cv2.VideoWriter('face_crop.avi',cv2.VideoWriter_fourcc('F','L','V','1'),fps_org_vid,(w,h))\n",
    "\n",
    "\n",
    "while(True):\n",
    "    rec, frame = org_vid.read()\n",
    "    if rec==True:\n",
    "        face_crop = frame[y:y+h, x:x+w]\n",
    "        #face_rsz = cv2.resize(face_crop, (rsz_w,rsz_h),interpolation =cv2.INTER_CUBIC)\n",
    "        crop_vid.write(face_crop)\n",
    "    else:\n",
    "        break\n",
    "org_vid.release()\n",
    "crop_vid.release()\n",
    "cv2.destroyAllWindows()"
   ]
  }
 ],
 "metadata": {
  "kernelspec": {
   "display_name": "Python 3",
   "language": "python",
   "name": "python3"
  },
  "language_info": {
   "codemirror_mode": {
    "name": "ipython",
    "version": 3
   },
   "file_extension": ".py",
   "mimetype": "text/x-python",
   "name": "python",
   "nbconvert_exporter": "python",
   "pygments_lexer": "ipython3",
   "version": "3.5.2"
  }
 },
 "nbformat": 4,
 "nbformat_minor": 2
}
